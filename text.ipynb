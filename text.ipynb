{
 "cells": [
  {
   "cell_type": "code",
   "execution_count": 3,
   "metadata": {},
   "outputs": [],
   "source": [
    "import csv\n",
    "\n",
    "# 打开文本文件\n",
    "with open('0325_output.txt', 'r') as txt_file:\n",
    "    # 读取文本文件的内容\n",
    "    lines = txt_file.readlines()\n",
    "\n",
    "for index in range(len(lines)):\n",
    "    lines[index] = lines[index].replace(\"more than 70\", \"70+\")\n",
    "    lines[index] = lines[index].replace(\"20-29\", \"20--29\")\n"
   ]
  },
  {
   "cell_type": "code",
   "execution_count": 4,
   "metadata": {},
   "outputs": [
    {
     "name": "stdout",
     "output_type": "stream",
     "text": [
      "TXT文件已成功转换为CSV文件！\n"
     ]
    }
   ],
   "source": [
    "# 将数据写入CSV文件\n",
    "with open('output_0325.csv', 'w', newline='') as csv_file:\n",
    "    csv_writer = csv.writer(csv_file)\n",
    "    \n",
    "    # 遍历每一行数据\n",
    "    for line in lines:\n",
    "        fields = line.strip().split(' ')\n",
    "        str = fields[1]\n",
    "        sub_age_1 = '0-2'\n",
    "        sub_age_2 = '3-9'\n",
    "        sub_age_3 = '10-19'\n",
    "        count_1 = f'0-2:{str.count(sub_age_1)}'\n",
    "        count_2 = f'3-9:{str.count(sub_age_2)}'\n",
    "        count_3 = f'10-19:{str.count(sub_age_3)}'\n",
    "        fields.append(count_1)\n",
    "        fields.append(count_2)\n",
    "        fields.append(count_3)\n",
    "\n",
    "        \n",
    "        # 将字段写入CSV文件\n",
    "        csv_writer.writerow(fields)\n",
    "\n",
    "print(\"TXT文件已成功转换为CSV文件！\")"
   ]
  },
  {
   "cell_type": "code",
   "execution_count": null,
   "metadata": {},
   "outputs": [],
   "source": []
  }
 ],
 "metadata": {
  "kernelspec": {
   "display_name": "base",
   "language": "python",
   "name": "python3"
  },
  "language_info": {
   "codemirror_mode": {
    "name": "ipython",
    "version": 3
   },
   "file_extension": ".py",
   "mimetype": "text/x-python",
   "name": "python",
   "nbconvert_exporter": "python",
   "pygments_lexer": "ipython3",
   "version": "3.8.10"
  }
 },
 "nbformat": 4,
 "nbformat_minor": 2
}
